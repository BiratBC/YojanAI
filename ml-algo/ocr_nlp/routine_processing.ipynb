{
 "cells": [
  {
   "cell_type": "code",
   "execution_count": 42,
   "id": "c2676de1",
   "metadata": {},
   "outputs": [],
   "source": [
    "import cv2\n",
    "import pytesseract\n",
    "from pytesseract import Output"
   ]
  },
  {
   "cell_type": "code",
   "execution_count": 44,
   "id": "806296e4",
   "metadata": {},
   "outputs": [
    {
     "name": "stdout",
     "output_type": "stream",
     "text": [
      "{}\n"
     ]
    }
   ],
   "source": [
    "import cv2\n",
    "import pytesseract\n",
    "import numpy as np\n",
    "from collections import defaultdict\n",
    "\n",
    "def extract_time_ranges(image_path):\n",
    "    # Load the image\n",
    "    img = cv2.imread(image_path)\n",
    "    gray = cv2.cvtColor(img, cv2.COLOR_BGR2GRAY)\n",
    "    \n",
    "    # Thresholding to get binary image\n",
    "    thresh = cv2.threshold(gray, 0, 255, cv2.THRESH_BINARY_INV + cv2.THRESH_OTSU)[1]\n",
    "    \n",
    "    # Detect horizontal lines (rows)\n",
    "    horizontal_kernel = cv2.getStructuringElement(cv2.MORPH_RECT, (50,1))\n",
    "    detect_horizontal = cv2.morphologyEx(thresh, cv2.MORPH_OPEN, horizontal_kernel, iterations=2)\n",
    "    \n",
    "    # Find contours for rows\n",
    "    cnts = cv2.findContours(detect_horizontal, cv2.RETR_EXTERNAL, cv2.CHAIN_APPROX_SIMPLE)\n",
    "    cnts = cnts[0] if len(cnts) == 2 else cnts[1]\n",
    "    \n",
    "    # Sort contours from top to bottom\n",
    "    cnts = sorted(cnts, key=lambda x: cv2.boundingRect(x)[1])\n",
    "    \n",
    "    # Dictionary to store time ranges for each day\n",
    "    day_time_ranges = defaultdict(list)\n",
    "    current_day = None\n",
    "    \n",
    "    for c in cnts:\n",
    "        x, y, w, h = cv2.boundingRect(c)\n",
    "        \n",
    "        # Extract ROI for this row\n",
    "        roi = img[y:y+h, x:x+w]\n",
    "        \n",
    "        # Use pytesseract to extract text\n",
    "        text = pytesseract.image_to_string(roi, config='--psm 6')\n",
    "        text = text.strip()\n",
    "        \n",
    "        # Check if this is a day row (Sunday, Monday, etc.)\n",
    "        days = ['Sunday', 'Monday', 'Tuesday', 'Wednesday', 'Thursday', 'Friday', 'Saturday']\n",
    "        for day in days:\n",
    "            if day in text:\n",
    "                current_day = day\n",
    "                break\n",
    "        \n",
    "        # If this row contains time information (for the current day)\n",
    "        if current_day and any(char.isdigit() for char in text):\n",
    "            # Extract time slots (simplified - would need more robust parsing)\n",
    "            times = [t for t in text.split() if '-' in t and ':' in t]\n",
    "            if times:\n",
    "                day_time_ranges[current_day].extend(times)\n",
    "    \n",
    "    # Process the time ranges for each day\n",
    "    result = {}\n",
    "    for day, times in day_time_ranges.items():\n",
    "        if not times:\n",
    "            continue\n",
    "            \n",
    "        # Extract all start and end times\n",
    "        all_times = []\n",
    "        for time_range in times:\n",
    "            start, end = time_range.split('-')\n",
    "            all_times.append(start.strip())\n",
    "            all_times.append(end.strip())\n",
    "        \n",
    "        # Find min and max times\n",
    "        if all_times:\n",
    "            # Convert to minutes for easy comparison\n",
    "            def time_to_minutes(t):\n",
    "                h, m = map(int, t.split(':'))\n",
    "                return h * 60 + m\n",
    "                \n",
    "            minutes = [time_to_minutes(t) for t in all_times]\n",
    "            min_time = min(minutes)\n",
    "            max_time = max(minutes)\n",
    "            \n",
    "            # Convert back to time string\n",
    "            def minutes_to_time(m):\n",
    "                return f\"{m//60:02d}:{m%60:02d}\"\n",
    "                \n",
    "            result[day] = f\"{minutes_to_time(min_time)}-{minutes_to_time(max_time)}\"\n",
    "    \n",
    "    return result\n",
    "\n",
    "# Example usage\n",
    "time_ranges = extract_time_ranges(\"media/class-routine.png\")\n",
    "print(time_ranges)"
   ]
  },
  {
   "cell_type": "code",
   "execution_count": null,
   "id": "af5d281a",
   "metadata": {},
   "outputs": [],
   "source": []
  }
 ],
 "metadata": {
  "kernelspec": {
   "display_name": "Python 3",
   "language": "python",
   "name": "python3"
  },
  "language_info": {
   "codemirror_mode": {
    "name": "ipython",
    "version": 3
   },
   "file_extension": ".py",
   "mimetype": "text/x-python",
   "name": "python",
   "nbconvert_exporter": "python",
   "pygments_lexer": "ipython3",
   "version": "3.12.6"
  }
 },
 "nbformat": 4,
 "nbformat_minor": 5
}
