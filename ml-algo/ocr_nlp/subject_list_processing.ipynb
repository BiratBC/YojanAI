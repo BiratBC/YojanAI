{
 "cells": [
  {
   "cell_type": "code",
   "execution_count": 6,
   "id": "88c3eed8",
   "metadata": {},
   "outputs": [],
   "source": [
    "# import torch\n",
    "# torch.cuda.is_available()"
   ]
  },
  {
   "cell_type": "code",
   "execution_count": 1,
   "id": "bf4312cd",
   "metadata": {},
   "outputs": [],
   "source": [
    "import cv2\n",
    "import numpy as np\n",
    "from PIL import Image\n",
    "import pytesseract\n",
    "import json"
   ]
  },
  {
   "cell_type": "code",
   "execution_count": 8,
   "id": "2f547da0",
   "metadata": {},
   "outputs": [],
   "source": [
    "img_file = \"media/semester-4.png\""
   ]
  },
  {
   "cell_type": "code",
   "execution_count": 9,
   "id": "c0c7eb7f",
   "metadata": {},
   "outputs": [],
   "source": [
    "\n",
    "img = Image.open(img_file)"
   ]
  },
  {
   "cell_type": "code",
   "execution_count": 10,
   "id": "ec11b12c",
   "metadata": {},
   "outputs": [],
   "source": [
    "ocr_result = pytesseract.image_to_string(img)\n",
    "# print(ocr_result)"
   ]
  },
  {
   "cell_type": "code",
   "execution_count": 11,
   "id": "7f9e9f74",
   "metadata": {},
   "outputs": [],
   "source": [
    "image = cv2.imread(img_file)"
   ]
  },
  {
   "cell_type": "code",
   "execution_count": 12,
   "id": "3f45b6be",
   "metadata": {},
   "outputs": [],
   "source": [
    "# Firstly converting the image to grayscale\n",
    "gray = cv2.cvtColor(image, cv2.COLOR_BGR2GRAY)\n",
    "blurred = cv2.GaussianBlur(gray, (5, 5), 0)\n"
   ]
  },
  {
   "cell_type": "code",
   "execution_count": 13,
   "id": "d128cae4",
   "metadata": {},
   "outputs": [
    {
     "data": {
      "text/plain": [
       "True"
      ]
     },
     "execution_count": 13,
     "metadata": {},
     "output_type": "execute_result"
    }
   ],
   "source": [
    "# Convert into binary image\n",
    "_, thresh = cv2.threshold(blurred, 0, 255, cv2.THRESH_BINARY_INV + cv2.THRESH_OTSU)\n",
    "cv2.imwrite('temp/binary_image.png', thresh)"
   ]
  },
  {
   "cell_type": "code",
   "execution_count": 14,
   "id": "158055ed",
   "metadata": {},
   "outputs": [
    {
     "data": {
      "text/plain": [
       "True"
      ]
     },
     "execution_count": 14,
     "metadata": {},
     "output_type": "execute_result"
    }
   ],
   "source": [
    "kernel = cv2.getStructuringElement(cv2.MORPH_RECT, (10, 2)) # creating a kernel of 10x2\n",
    "dilated = cv2.dilate(thresh, kernel, iterations=1) # dilating means white thickening of text (if text color is white and background is black in binary)\n",
    "cv2.imwrite('temp/white_thickend_dilated.png', dilated)"
   ]
  },
  {
   "cell_type": "code",
   "execution_count": 15,
   "id": "d7ffd345",
   "metadata": {},
   "outputs": [],
   "source": [
    "# identify contours-> contours are boxes/area which defines the boundary inside an image\n",
    "contours, _ = cv2.findContours(dilated, cv2.RETR_EXTERNAL, cv2.CHAIN_APPROX_SIMPLE)\n"
   ]
  },
  {
   "cell_type": "code",
   "execution_count": 16,
   "id": "18010148",
   "metadata": {},
   "outputs": [],
   "source": [
    "# Extract and sort bounding boxes into rows\n",
    "boxes = [cv2.boundingRect(c) for c in contours]\n",
    "boxes = sorted(boxes, key=lambda b: (b[1], b[0]))  # sort top to bottom, then left to right"
   ]
  },
  {
   "cell_type": "code",
   "execution_count": 17,
   "id": "bd67a527",
   "metadata": {},
   "outputs": [
    {
     "name": "stdout",
     "output_type": "stream",
     "text": [
      "[['Subject Code', 'Subject', 'Credit'], ['MATH 207', 'Differential Equations and Complex Variables', '4'], ['MCSC 202', 'Numerical Methods', '3'], ['COMP 204', 'Communication and Networking', '3'], ['COMP 231', 'Microprocessor and Assembly Language', '3'], ['COMP 232', 'Database Management Systems', '3'], ['COMP 207', 'Computer Project II', '2']]\n"
     ]
    }
   ],
   "source": [
    "rows = []\n",
    "current_row = []\n",
    "row_y_threshold = 15\n",
    "\n",
    "for box in boxes:\n",
    "    x, y, w, h = box #getting the coordinates of bounding boxes\n",
    "    if not current_row:\n",
    "        current_row.append(box)\n",
    "    else:\n",
    "        if abs(y - current_row[-1][1]) <= row_y_threshold:\n",
    "            current_row.append(box)\n",
    "        else:\n",
    "            rows.append(sorted(current_row, key=lambda b: b[0]))  # sort left to right\n",
    "            current_row = [box]\n",
    "if current_row:\n",
    "    rows.append(sorted(current_row, key=lambda b: b[0]))\n",
    "\n",
    "table = []\n",
    "for row in rows:\n",
    "    row_data = []\n",
    "    for (x, y, w, h) in row:\n",
    "        roi = image[y:y+h, x:x+w] #getting the region of interest\n",
    "        text = pytesseract.image_to_string(roi, config='--psm 6').strip()\n",
    "        row_data.append(text)\n",
    "    table.append(row_data)\n",
    "print(table)"
   ]
  },
  {
   "cell_type": "code",
   "execution_count": 18,
   "id": "de608b60",
   "metadata": {},
   "outputs": [
    {
     "name": "stdout",
     "output_type": "stream",
     "text": [
      "[\n",
      "  {\n",
      "    \"Subject Code\": \"MATH 207\",\n",
      "    \"Subject\": \"Differential Equations and Complex Variables\",\n",
      "    \"Credit\": 4\n",
      "  },\n",
      "  {\n",
      "    \"Subject Code\": \"MCSC 202\",\n",
      "    \"Subject\": \"Numerical Methods\",\n",
      "    \"Credit\": 3\n",
      "  },\n",
      "  {\n",
      "    \"Subject Code\": \"COMP 204\",\n",
      "    \"Subject\": \"Communication and Networking\",\n",
      "    \"Credit\": 3\n",
      "  },\n",
      "  {\n",
      "    \"Subject Code\": \"COMP 231\",\n",
      "    \"Subject\": \"Microprocessor and Assembly Language\",\n",
      "    \"Credit\": 3\n",
      "  },\n",
      "  {\n",
      "    \"Subject Code\": \"COMP 232\",\n",
      "    \"Subject\": \"Database Management Systems\",\n",
      "    \"Credit\": 3\n",
      "  },\n",
      "  {\n",
      "    \"Subject Code\": \"COMP 207\",\n",
      "    \"Subject\": \"Computer Project II\",\n",
      "    \"Credit\": 2\n",
      "  }\n",
      "]\n"
     ]
    }
   ],
   "source": [
    "# Create JSON from table\n",
    "import re\n",
    "header = table[0]\n",
    "json_data = []\n",
    "\n",
    "hardcoded_credits = {\n",
    "    \"Laboratory Work\": 1,\n",
    "}\n",
    "\n",
    "def extract_credit(val):\n",
    "    match = re.search(r'\\d+', val)  # Look for the first number in the string\n",
    "    if match:\n",
    "        return int(match.group())\n",
    "    return 2  # default credit if no number is found\n",
    "\n",
    "for row in table[1:]:\n",
    "    if len(row) == 2: # for elective subjects with no subject code\n",
    "        row = [\"\", row[0], row[1]]  # Fill Subject Code as empty\n",
    "    elif len(row) < len(header):\n",
    "        row += [\"\"] * (len(header) - len(row))  # pad with empty strings\n",
    "    item = {}\n",
    "    subj_val = row[header.index(\"Subject\")].strip()\n",
    "    for i, cell in enumerate(row):\n",
    "        key = header[i]\n",
    "        val = row[i]\n",
    "        if \"Credit\" in key:\n",
    "            if subj_val in hardcoded_credits:\n",
    "                val = hardcoded_credits[subj_val]\n",
    "            else:\n",
    "                val = extract_credit(val)\n",
    "        item[key] = val\n",
    "    json_data.append(item)\n",
    "\n",
    "# Output the result\n",
    "print(json.dumps(json_data, indent=2))"
   ]
  },
  {
   "cell_type": "code",
   "execution_count": null,
   "id": "0caceebd",
   "metadata": {},
   "outputs": [],
   "source": []
  }
 ],
 "metadata": {
  "kernelspec": {
   "display_name": "Python 3",
   "language": "python",
   "name": "python3"
  },
  "language_info": {
   "codemirror_mode": {
    "name": "ipython",
    "version": 3
   },
   "file_extension": ".py",
   "mimetype": "text/x-python",
   "name": "python",
   "nbconvert_exporter": "python",
   "pygments_lexer": "ipython3",
   "version": "3.12.6"
  }
 },
 "nbformat": 4,
 "nbformat_minor": 5
}
